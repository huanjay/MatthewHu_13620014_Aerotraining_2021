{
 "cells": [
  {
   "cell_type": "markdown",
   "metadata": {
    "id": "JAuA1HV8cXgf"
   },
   "source": [
    "# Transonic Airfoil Aerodynamic Coefficients Prediction using Artificial Neural Network"
   ]
  },
  {
   "cell_type": "markdown",
   "metadata": {
    "id": "TXjG875jg3gd"
   },
   "source": [
    "##Fill in your answer in \"isi jawaban anda!\""
   ]
  },
  {
   "cell_type": "markdown",
   "metadata": {
    "id": "bT_8HFgqcXgk"
   },
   "source": [
    "In this notebook, an artificial neural network being modeled to predict the aerodynamic coefficients of an airfoil that flies at a nominal condition of __Mach Number M = 0.729__ where the data of varying M and __angle of attack α__ results in various __lift coefficient Cl__, __drag coefficient Cd__ and the pressure coefficient at the center of the upper surface of the airfoil __Cp__ using _Tensorflow and Keras_.\n",
    "\n",
    "The data were taken from the following reference: Pramudita Satria Palar, Lavi Rizki Zuhal, and Koji Shimoyama.\"Gaussian Process Surrogate Model with Composite Kernel Learning for Engineering Design.\" _AIAA Journal_ 58, no. 4 (2020):1864-1880.\n",
    "\n",
    "_Notebook made to explore simple Artificial Neural Network, Rafael S_"
   ]
  },
  {
   "cell_type": "markdown",
   "metadata": {
    "id": "XmcBYqKPcXgm"
   },
   "source": [
    "### Importing required packages"
   ]
  },
  {
   "cell_type": "code",
   "execution_count": 1,
   "metadata": {
    "id": "NYvGA6orcXgn"
   },
   "outputs": [
    {
     "ename": "ModuleNotFoundError",
     "evalue": "No module named 'tensorflow'",
     "output_type": "error",
     "traceback": [
      "\u001b[1;31m---------------------------------------------------------------------------\u001b[0m",
      "\u001b[1;31mModuleNotFoundError\u001b[0m                       Traceback (most recent call last)",
      "\u001b[1;32m<ipython-input-1-f3c06b70fd03>\u001b[0m in \u001b[0;36m<module>\u001b[1;34m\u001b[0m\n\u001b[0;32m      1\u001b[0m \u001b[1;32mimport\u001b[0m \u001b[0mnumpy\u001b[0m \u001b[1;32mas\u001b[0m \u001b[0mnp\u001b[0m\u001b[1;33m\u001b[0m\u001b[1;33m\u001b[0m\u001b[0m\n\u001b[0;32m      2\u001b[0m \u001b[1;32mimport\u001b[0m \u001b[0mpandas\u001b[0m \u001b[1;32mas\u001b[0m \u001b[0mpd\u001b[0m\u001b[1;33m\u001b[0m\u001b[1;33m\u001b[0m\u001b[0m\n\u001b[1;32m----> 3\u001b[1;33m \u001b[1;32mimport\u001b[0m \u001b[0mtensorflow\u001b[0m \u001b[1;32mas\u001b[0m \u001b[0mtf\u001b[0m\u001b[1;33m\u001b[0m\u001b[1;33m\u001b[0m\u001b[0m\n\u001b[0m\u001b[0;32m      4\u001b[0m \u001b[1;32mfrom\u001b[0m \u001b[0mmatplotlib\u001b[0m \u001b[1;32mimport\u001b[0m \u001b[0mpyplot\u001b[0m \u001b[1;32mas\u001b[0m \u001b[0mplt\u001b[0m\u001b[1;33m\u001b[0m\u001b[1;33m\u001b[0m\u001b[0m\n\u001b[0;32m      5\u001b[0m \u001b[1;32mfrom\u001b[0m \u001b[0mmpl_toolkits\u001b[0m\u001b[1;33m.\u001b[0m\u001b[0mmplot3d\u001b[0m \u001b[1;32mimport\u001b[0m \u001b[0mAxes3D\u001b[0m\u001b[1;33m\u001b[0m\u001b[1;33m\u001b[0m\u001b[0m\n",
      "\u001b[1;31mModuleNotFoundError\u001b[0m: No module named 'tensorflow'"
     ]
    }
   ],
   "source": [
    "import numpy as np\n",
    "import pandas as pd\n",
    "import tensorflow as tf\n",
    "from matplotlib import pyplot as plt\n",
    "from mpl_toolkits.mplot3d import Axes3D\n",
    "import seaborn as sns\n",
    "from sklearn.metrics import mean_squared_error"
   ]
  },
  {
   "cell_type": "markdown",
   "metadata": {
    "id": "aAe7D0gPcXgo"
   },
   "source": [
    "### Importing Dataset"
   ]
  },
  {
   "cell_type": "code",
   "execution_count": null,
   "metadata": {
    "colab": {
     "base_uri": "https://localhost:8080/"
    },
    "executionInfo": {
     "elapsed": 11,
     "status": "ok",
     "timestamp": 1636172516992,
     "user": {
      "displayName": "Rafael Stevenson",
      "photoUrl": "https://lh3.googleusercontent.com/a-/AOh14GjFLyofEkjshRLdSt6m-WESKgWwFx6DJWvLRD1t3A=s64",
      "userId": "15163524260226497427"
     },
     "user_tz": -420
    },
    "id": "JfD5LjBCceAn",
    "outputId": "02438e51-c055-4098-bb40-6f4dcf4d266b"
   },
   "outputs": [],
   "source": [
    "from google.colab import drive\n",
    "drive.mount('/content/drive/')"
   ]
  },
  {
   "cell_type": "code",
   "execution_count": null,
   "metadata": {
    "colab": {
     "base_uri": "https://localhost:8080/",
     "height": 424
    },
    "executionInfo": {
     "elapsed": 8,
     "status": "ok",
     "timestamp": 1636172516993,
     "user": {
      "displayName": "Rafael Stevenson",
      "photoUrl": "https://lh3.googleusercontent.com/a-/AOh14GjFLyofEkjshRLdSt6m-WESKgWwFx6DJWvLRD1t3A=s64",
      "userId": "15163524260226497427"
     },
     "user_tz": -420
    },
    "id": "TAnrprcDcf3o",
    "outputId": "6c43597f-8313-4c68-8132-bb8d19130863"
   },
   "outputs": [],
   "source": [
    "df = pd.read_csv('transonic_airfoil_data_set.csv').drop(columns = 'No')\n",
    "df"
   ]
  },
  {
   "cell_type": "markdown",
   "metadata": {
    "id": "Mf9GPLNgcXgr"
   },
   "source": [
    "### Data Plot"
   ]
  },
  {
   "cell_type": "markdown",
   "metadata": {
    "id": "XbBiZp1ZcXgr"
   },
   "source": [
    "Plotting the data to have a better visualization of our data distribution and linearity."
   ]
  },
  {
   "cell_type": "markdown",
   "metadata": {
    "id": "0QmWrIKjcXgs"
   },
   "source": [
    "#### Lift Coefficient Cl Plot"
   ]
  },
  {
   "cell_type": "code",
   "execution_count": null,
   "metadata": {
    "colab": {
     "base_uri": "https://localhost:8080/",
     "height": 1000
    },
    "executionInfo": {
     "elapsed": 3639,
     "status": "ok",
     "timestamp": 1636172520627,
     "user": {
      "displayName": "Rafael Stevenson",
      "photoUrl": "https://lh3.googleusercontent.com/a-/AOh14GjFLyofEkjshRLdSt6m-WESKgWwFx6DJWvLRD1t3A=s64",
      "userId": "15163524260226497427"
     },
     "user_tz": -420
    },
    "id": "K9iOydbLcXgs",
    "outputId": "9e082e83-6834-434f-d327-be99e84ccfc8"
   },
   "outputs": [],
   "source": [
    "figcl = plt.figure(figsize = [6,6])\n",
    "clplot = Axes3D(figcl)\n",
    "clplot.scatter(df['M'], df['AoA'], df['Cl'])\n",
    "clplot.set_xlabel('Mach Number')\n",
    "clplot.set_ylabel('Angle of Attack (degree)')\n",
    "clplot.set_zlabel('Cl')\n",
    "plt.show()\n",
    "\n",
    "plt.scatter(df['M'], df['Cl'], alpha = 0.3)\n",
    "plt.xlabel('Mach Number')\n",
    "plt.ylabel('Cl')\n",
    "plt.title('Cl vs Mach Number')\n",
    "plt.show()\n",
    "\n",
    "plt.scatter(df['AoA'], df['Cl'], alpha = 0.3)\n",
    "plt.xlabel('Angle of Attack (degree)')\n",
    "plt.ylabel('Cl')\n",
    "plt.title('Cl vs AoA')\n",
    "plt.show()"
   ]
  },
  {
   "cell_type": "markdown",
   "metadata": {
    "id": "6aC4bW0AcXgt"
   },
   "source": [
    "#### Drag Coefficient Cd Plot"
   ]
  },
  {
   "cell_type": "code",
   "execution_count": null,
   "metadata": {
    "colab": {
     "base_uri": "https://localhost:8080/",
     "height": 1000
    },
    "executionInfo": {
     "elapsed": 14,
     "status": "ok",
     "timestamp": 1636172520628,
     "user": {
      "displayName": "Rafael Stevenson",
      "photoUrl": "https://lh3.googleusercontent.com/a-/AOh14GjFLyofEkjshRLdSt6m-WESKgWwFx6DJWvLRD1t3A=s64",
      "userId": "15163524260226497427"
     },
     "user_tz": -420
    },
    "id": "Otim0NIecXgv",
    "outputId": "2eaa87ba-698f-4308-862d-ed5f91ff18fa"
   },
   "outputs": [],
   "source": [
    "figcd = plt.figure(figsize = [6,6])\n",
    "cdplot = Axes3D(figcd)\n",
    "cdplot.scatter(df['M'], df['AoA'], df['Cd'], c = 'r', alpha = 0.3)\n",
    "cdplot.set_xlabel('Mach Number')\n",
    "cdplot.set_ylabel('Angle of Attack (degree)')\n",
    "cdplot.set_zlabel('Cd')\n",
    "plt.show()\n",
    "\n",
    "plt.scatter(df['M'], df['Cd'], alpha = 0.2, c = 'r')\n",
    "plt.xlabel('Mach Number')\n",
    "plt.ylabel('Cd')\n",
    "plt.title('Cd vs Mach Number')\n",
    "plt.show()\n",
    "\n",
    "plt.scatter(df['AoA'], df['Cd'], alpha = 0.2, c = 'r')\n",
    "plt.xlabel('Angle of Attack (degree)')\n",
    "plt.ylabel('Cd')\n",
    "plt.title('Cd vs AoA')\n",
    "plt.show()"
   ]
  },
  {
   "cell_type": "markdown",
   "metadata": {
    "id": "kc5wVgz0cXgv"
   },
   "source": [
    "#### Pressure Coefficient Cp Plot"
   ]
  },
  {
   "cell_type": "code",
   "execution_count": null,
   "metadata": {
    "colab": {
     "base_uri": "https://localhost:8080/",
     "height": 1000
    },
    "executionInfo": {
     "elapsed": 12,
     "status": "ok",
     "timestamp": 1636172520630,
     "user": {
      "displayName": "Rafael Stevenson",
      "photoUrl": "https://lh3.googleusercontent.com/a-/AOh14GjFLyofEkjshRLdSt6m-WESKgWwFx6DJWvLRD1t3A=s64",
      "userId": "15163524260226497427"
     },
     "user_tz": -420
    },
    "id": "mp7xp9bMcXgw",
    "outputId": "871e524a-6e46-4b9c-948d-648894cdeab4"
   },
   "outputs": [],
   "source": [
    "figcp = plt.figure(figsize = [6,6])\n",
    "cpplot = Axes3D(figcp)\n",
    "cpplot.scatter(df['M'], df['AoA'], df['Cp'], c = 'g')\n",
    "cpplot.set_xlabel('Mach Number')\n",
    "cpplot.set_ylabel('Angle of Attack (degree)')\n",
    "cpplot.set_zlabel('Cp')\n",
    "plt.show()\n",
    "\n",
    "plt.scatter(df['M'], df['Cp'], alpha = 0.3, c = 'g')\n",
    "plt.xlabel('Mach Number')\n",
    "plt.ylabel('Cp')\n",
    "plt.title('Cp vs Mach Number')\n",
    "plt.show()\n",
    "\n",
    "plt.scatter(df['AoA'], df['Cp'], alpha = 0.3, c = 'g')\n",
    "plt.xlabel('Angle of Attack (degree)')\n",
    "plt.ylabel('Cp')\n",
    "plt.title('Cp vs AoA')\n",
    "plt.show()"
   ]
  },
  {
   "cell_type": "markdown",
   "metadata": {
    "id": "YS0bBYjXcXgw"
   },
   "source": [
    "### Correlation Coefficient"
   ]
  },
  {
   "cell_type": "markdown",
   "metadata": {
    "id": "2mNYk2jicXgw"
   },
   "source": [
    "Checking the Pearson's correlation coefficient to measure the statistical relationship, or association, between the variables."
   ]
  },
  {
   "cell_type": "code",
   "execution_count": null,
   "metadata": {
    "colab": {
     "base_uri": "https://localhost:8080/",
     "height": 269
    },
    "executionInfo": {
     "elapsed": 1458,
     "status": "ok",
     "timestamp": 1636172522081,
     "user": {
      "displayName": "Rafael Stevenson",
      "photoUrl": "https://lh3.googleusercontent.com/a-/AOh14GjFLyofEkjshRLdSt6m-WESKgWwFx6DJWvLRD1t3A=s64",
      "userId": "15163524260226497427"
     },
     "user_tz": -420
    },
    "id": "Q_z6oAn8cXgx",
    "outputId": "ad7079b4-2584-4b3f-e653-c46277c2ecde"
   },
   "outputs": [],
   "source": [
    "df_heatmap = sns.heatmap(corr, annot = True, cmap = 'coolwarm')"
   ]
  },
  {
   "cell_type": "markdown",
   "metadata": {
    "id": "4zaNCPSZcXgx"
   },
   "source": [
    "### Input and Output Data\n",
    "Defining the input data and the output data."
   ]
  },
  {
   "cell_type": "code",
   "execution_count": null,
   "metadata": {
    "id": "9R15-_6kcXgx"
   },
   "outputs": [],
   "source": [
    "X = df.loc[:, [\"M\", \"AoA\"]]\n",
    "y = df.loc[:, [\"Cl\",\"Cd\",\"Cp\"]]"
   ]
  },
  {
   "cell_type": "code",
   "execution_count": null,
   "metadata": {
    "colab": {
     "base_uri": "https://localhost:8080/",
     "height": 424
    },
    "executionInfo": {
     "elapsed": 32,
     "status": "ok",
     "timestamp": 1636172522083,
     "user": {
      "displayName": "Rafael Stevenson",
      "photoUrl": "https://lh3.googleusercontent.com/a-/AOh14GjFLyofEkjshRLdSt6m-WESKgWwFx6DJWvLRD1t3A=s64",
      "userId": "15163524260226497427"
     },
     "user_tz": -420
    },
    "id": "bzHRxHtycXgx",
    "outputId": "d8a283ed-ce37-4e43-d619-0923a570dc4f"
   },
   "outputs": [],
   "source": [
    "X #Input Data"
   ]
  },
  {
   "cell_type": "code",
   "execution_count": null,
   "metadata": {
    "colab": {
     "base_uri": "https://localhost:8080/",
     "height": 424
    },
    "executionInfo": {
     "elapsed": 31,
     "status": "ok",
     "timestamp": 1636172522085,
     "user": {
      "displayName": "Rafael Stevenson",
      "photoUrl": "https://lh3.googleusercontent.com/a-/AOh14GjFLyofEkjshRLdSt6m-WESKgWwFx6DJWvLRD1t3A=s64",
      "userId": "15163524260226497427"
     },
     "user_tz": -420
    },
    "id": "fB4NoDAAcXgx",
    "outputId": "00ec47df-caa7-4281-b90f-9152633ab713"
   },
   "outputs": [],
   "source": [
    "y #Output Data"
   ]
  },
  {
   "cell_type": "markdown",
   "metadata": {
    "id": "C_eHxDVXcXgz"
   },
   "source": [
    "### Dataset Split (Training and Validation Data)\n",
    "Splitting the dataset by random and evenly distributed for the training and validation dataset."
   ]
  },
  {
   "cell_type": "code",
   "execution_count": null,
   "metadata": {
    "id": "C_JUmgf8cXgz"
   },
   "outputs": [],
   "source": [
    "from sklearn.model_selection import train_test_split\n",
    "X_train, X_test, y_train, y_test = train_test_split(X, y, test_size = 0.2, random_state = 29)"
   ]
  },
  {
   "cell_type": "markdown",
   "metadata": {
    "id": "D0f2b4y7cXgz"
   },
   "source": [
    "Plotting to visualize the dataset split result."
   ]
  },
  {
   "cell_type": "code",
   "execution_count": null,
   "metadata": {
    "colab": {
     "base_uri": "https://localhost:8080/",
     "height": 357
    },
    "executionInfo": {
     "elapsed": 34,
     "status": "ok",
     "timestamp": 1636172522091,
     "user": {
      "displayName": "Rafael Stevenson",
      "photoUrl": "https://lh3.googleusercontent.com/a-/AOh14GjFLyofEkjshRLdSt6m-WESKgWwFx6DJWvLRD1t3A=s64",
      "userId": "15163524260226497427"
     },
     "user_tz": -420
    },
    "id": "MAQyBka8cXgz",
    "outputId": "3d6f11e2-3c9b-4c37-e12b-34ad477c5313"
   },
   "outputs": [],
   "source": [
    "# Creating figure\n",
    "fig = plt.figure(figsize = (8, 6))\n",
    "visual_split = plt.axes(projection =\"3d\")\n",
    " \n",
    "# Creating plot\n",
    "visual_split.scatter3D(X_train['M'], X_train['AoA'], y_train['Cl'], color = \"green\", alpha=0.3, label='Train Data')\n",
    "visual_split.scatter3D(X_test['M'], X_test['AoA'], y_test['Cl'], color = \"red\",alpha=0.5, label='Test Data')\n",
    "plt.title(\"Train and Test Dataset\")\n",
    "plt.xlabel('Mach Number')\n",
    "plt.ylabel('Angle of Attack')\n",
    "plt.legend()\n",
    "plt.show()\n"
   ]
  },
  {
   "cell_type": "markdown",
   "metadata": {
    "id": "6emFfpEGcXg0"
   },
   "source": [
    "## Normalizing The Data"
   ]
  },
  {
   "cell_type": "markdown",
   "metadata": {
    "id": "Owuc1n36cXg0"
   },
   "source": [
    "Normalization ensures that the magnitude of the values that a feature assumes are more or less the same."
   ]
  },
  {
   "cell_type": "code",
   "execution_count": null,
   "metadata": {
    "id": "FC47FYOKcXg0"
   },
   "outputs": [],
   "source": [
    "from sklearn.preprocessing import MinMaxScaler\n",
    "scaler = MinMaxScaler()\n",
    "scalery = MinMaxScaler()"
   ]
  },
  {
   "cell_type": "code",
   "execution_count": null,
   "metadata": {
    "id": "RYTeHmhAcXg0"
   },
   "outputs": [],
   "source": [
    "X_train = scaler.fit_transform(X_train)\n",
    "X_test = scaler.transform(X_test)\n",
    "\n",
    "y_train = scalery.fit_transform(y_train)\n",
    "y_test = scalery.transform(y_test)"
   ]
  },
  {
   "cell_type": "markdown",
   "metadata": {
    "id": "qHEP4T0KcXg1"
   },
   "source": [
    "## Modeling The Artificial Neural Network"
   ]
  },
  {
   "cell_type": "markdown",
   "metadata": {
    "id": "oD5enqezcXg1"
   },
   "source": [
    "The activation function for the hidden layer of the network is using the Rectified Linear Unit (ReLU) function as it is a simple, fast and observed to converge much more quickly and reliably.\n",
    "\n",
    "The Dropout algorithm is commented out as it doesn't provide improvements after a few trainings, and early stopping method is being used instead to avoid overfitting our neural network to the dataset.\n",
    "\n",
    "The optimizer is the adam optimizer as it provides an adaptive learning rate to optimize better."
   ]
  },
  {
   "cell_type": "code",
   "execution_count": null,
   "metadata": {
    "id": "CRjsgmROcXg1"
   },
   "outputs": [],
   "source": [
    "from tensorflow.keras.models import Sequential\n",
    "from tensorflow.keras.layers import Dense,Activation,Dropout\n",
    "from tensorflow.keras.optimizers import Adam\n",
    "from tensorflow.keras.callbacks import EarlyStopping"
   ]
  },
  {
   "cell_type": "code",
   "execution_count": null,
   "metadata": {
    "id": "CtSKLXEucXg2"
   },
   "outputs": [],
   "source": [
    "NNmodel = Sequential()\n",
    "\n",
    "NNmodel.add(Dense(\"relu\",activation='relu')) #Hidden Layer\n",
    "#NNmodel.add(Dropout(0.2))\n",
    "NNmodel.add(Dense(\"relu\",activation='relu')) #Hidden Layer\n",
    "#NNmodel.add(Dropout(0.2))\n",
    "NNmodel.add(Dense(\"relu\",activation='relu')) #Hidden Layer\n",
    "#NNmodel.add(Dropout(0.2))\n",
    "\n",
    "NNmodel.add(Dense(units = 3,activation='linear')) #Output Layer\n",
    "\n",
    "NNmodel.compile(loss='mse', optimizer='adam')"
   ]
  },
  {
   "cell_type": "markdown",
   "metadata": {
    "id": "ZNNQD5IPcXg2"
   },
   "source": [
    "### Early Stopping"
   ]
  },
  {
   "cell_type": "markdown",
   "metadata": {
    "id": "hYDq1XrwcXg2"
   },
   "source": [
    "To avoid overfitting during the training of the neural network, early stopping method is being added. Early stopping is a form of regularization used to avoid overfitting when training a learner with an iterative method."
   ]
  },
  {
   "cell_type": "code",
   "execution_count": null,
   "metadata": {
    "id": "DwVhIvoQcXg3"
   },
   "outputs": [],
   "source": [
    "early_stop = EarlyStopping(monitor='val_loss', mode='min', verbose=1, patience=50)"
   ]
  },
  {
   "cell_type": "markdown",
   "metadata": {
    "id": "LiAVfOuUcXg3"
   },
   "source": [
    "### Training The Artificial Neural Network"
   ]
  },
  {
   "cell_type": "code",
   "execution_count": null,
   "metadata": {
    "colab": {
     "base_uri": "https://localhost:8080/"
    },
    "executionInfo": {
     "elapsed": 80436,
     "status": "ok",
     "timestamp": 1636172602498,
     "user": {
      "displayName": "Rafael Stevenson",
      "photoUrl": "https://lh3.googleusercontent.com/a-/AOh14GjFLyofEkjshRLdSt6m-WESKgWwFx6DJWvLRD1t3A=s64",
      "userId": "15163524260226497427"
     },
     "user_tz": -420
    },
    "id": "gTXspzb5cXg3",
    "outputId": "da32817e-f711-4dfb-c407-fda1921f9633"
   },
   "outputs": [],
   "source": [
    "NNmodel.fit(x=X_train, y=y_train, epochs=1000, validation_data=(X_test,y_test), callbacks=[early_stop])"
   ]
  },
  {
   "cell_type": "markdown",
   "metadata": {
    "id": "3wlU13VacXg4"
   },
   "source": [
    "### Plotting The Losses During Training"
   ]
  },
  {
   "cell_type": "code",
   "execution_count": null,
   "metadata": {
    "colab": {
     "base_uri": "https://localhost:8080/",
     "height": 531
    },
    "executionInfo": {
     "elapsed": 899,
     "status": "ok",
     "timestamp": 1636172603390,
     "user": {
      "displayName": "Rafael Stevenson",
      "photoUrl": "https://lh3.googleusercontent.com/a-/AOh14GjFLyofEkjshRLdSt6m-WESKgWwFx6DJWvLRD1t3A=s64",
      "userId": "15163524260226497427"
     },
     "user_tz": -420
    },
    "id": "4tKghINteR0T",
    "outputId": "be0db4f2-9310-43cf-b4bc-14d2cb94159c"
   },
   "outputs": [],
   "source": [
    "losses = pd.DataFrame(NNmodel.history.history)\n",
    "plt.grid()\n",
    "plt.yscale(\"log\")\n",
    "plt.plot(losses['loss'], label='train loss')\n",
    "plt.plot(losses['val_loss'], label='validation loss')\n",
    "plt.legend()\n",
    "losses[['loss', 'val_loss']].plot()"
   ]
  },
  {
   "cell_type": "markdown",
   "metadata": {
    "id": "cevnd2JRcXg4"
   },
   "source": [
    "### Predicting On The Test Dataset"
   ]
  },
  {
   "cell_type": "code",
   "execution_count": null,
   "metadata": {
    "id": "oB92u4IEcXg4"
   },
   "outputs": [],
   "source": [
    "predictions = NNmodel.predict(X_test)"
   ]
  },
  {
   "cell_type": "code",
   "execution_count": null,
   "metadata": {
    "id": "KtQmrP5FcXg5"
   },
   "outputs": [],
   "source": [
    "predictions = scalery.inverse_transform(predictions)\n",
    "y_test = scalery.inverse_transform(y_test)"
   ]
  },
  {
   "cell_type": "markdown",
   "metadata": {
    "id": "Es0pkybLcXg5"
   },
   "source": [
    "### Mean Squared Error and Mean Absolute Error of the Prediction Results"
   ]
  },
  {
   "cell_type": "code",
   "execution_count": null,
   "metadata": {
    "colab": {
     "base_uri": "https://localhost:8080/"
    },
    "executionInfo": {
     "elapsed": 1178,
     "status": "ok",
     "timestamp": 1636172604559,
     "user": {
      "displayName": "Rafael Stevenson",
      "photoUrl": "https://lh3.googleusercontent.com/a-/AOh14GjFLyofEkjshRLdSt6m-WESKgWwFx6DJWvLRD1t3A=s64",
      "userId": "15163524260226497427"
     },
     "user_tz": -420
    },
    "id": "NqOEo8c_cXg5",
    "outputId": "8bc8eabb-d766-4d97-80ec-f906ad001d28"
   },
   "outputs": [],
   "source": [
    "mse_cl = mean_squared_error(y_test[:,0], predictions[:,0])\n",
    "print(f\"Mean Squared Error for Cl: {mse_cl}\")\n",
    "mae_cl = np.sum(np.absolute(y_test[:,0]- predictions[:,0]))/len(y_test)\n",
    "print(f\"Mean Absolute Error for Cl: {mae_cl}\\n\")\n",
    "mse_cd = mean_squared_error(y_test[:,1], predictions[:,1])\n",
    "print(f\"Mean Squared Error for Cd: {mse_cd}\")\n",
    "mae_cd = np.sum(np.absolute(y_test[:,1]- predictions[:,1]))/len(y_test)\n",
    "print(f\"Mean Absolute Error for Cd: {mae_cd}\\n\")\n",
    "mse_cp = mean_squared_error(y_test[:,2], predictions[:,2])\n",
    "print(f\"Mean Squared Error for Cp: {mse_cp}\")\n",
    "mae_cp = np.sum(np.absolute(y_test[:,2]- predictions[:,2]))/len(y_test)\n",
    "print(f\"Mean Absolute Error for Cp: {mae_cp}\\n\")"
   ]
  },
  {
   "cell_type": "markdown",
   "metadata": {
    "id": "1WthU-wOcXg5"
   },
   "source": [
    "### Predictions vs Ground Truth Plots"
   ]
  },
  {
   "cell_type": "code",
   "execution_count": null,
   "metadata": {
    "colab": {
     "base_uri": "https://localhost:8080/",
     "height": 1000
    },
    "executionInfo": {
     "elapsed": 2662,
     "status": "ok",
     "timestamp": 1636172607212,
     "user": {
      "displayName": "Rafael Stevenson",
      "photoUrl": "https://lh3.googleusercontent.com/a-/AOh14GjFLyofEkjshRLdSt6m-WESKgWwFx6DJWvLRD1t3A=s64",
      "userId": "15163524260226497427"
     },
     "user_tz": -420
    },
    "id": "8vTv-5AMcXg6",
    "outputId": "7215cd63-ac77-4428-80f9-4ed10e187aba"
   },
   "outputs": [],
   "source": [
    "###############################Cl\n",
    "# Creating figure Cl\n",
    "fig = plt.figure(figsize = (8, 6))\n",
    "visual_split = plt.axes(projection =\"3d\")\n",
    " \n",
    "# Creating plot\n",
    "visual_split.scatter3D(scaler.inverse_transform(X_test)[:,0], scaler.inverse_transform(X_test)[:,1], predictions[:,0], color = \"black\", alpha=1, label='Predictions', marker='x')\n",
    "visual_split.scatter3D(scaler.inverse_transform(X_test)[:,0], scaler.inverse_transform(X_test)[:,1], y_test[:,0], color = \"blue\", alpha=0.6, label='Ground Truth')\n",
    "plt.title(\"Cl Prediction vs Ground Truth\")\n",
    "plt.xlabel('Mach Number')\n",
    "plt.ylabel('Angle of Attack')\n",
    "plt.legend()\n",
    "plt.show()\n",
    "\n",
    "plt.scatter(scaler.inverse_transform(X_test)[:,0], predictions[:,0], color = \"black\", alpha=1, label='Predictions', marker='x')\n",
    "plt.scatter(scaler.inverse_transform(X_test)[:,0], y_test[:,0], color = \"blue\", alpha=0.6, label='Ground Truth')\n",
    "plt.xlabel('Mach Number')\n",
    "plt.ylabel('Cl')\n",
    "plt.title('Cl vs Mach Number')\n",
    "plt.legend()\n",
    "plt.show()\n",
    "\n",
    "plt.scatter(scaler.inverse_transform(X_test)[:,1], predictions[:,0], color = \"black\", alpha=1, label='Predictions', marker='x')\n",
    "plt.scatter(scaler.inverse_transform(X_test)[:,1], y_test[:,0], color = \"blue\", alpha=0.6, label='Ground Truth')\n",
    "plt.xlabel('AoA')\n",
    "plt.ylabel('Cl')\n",
    "plt.title('Cl vs AoA')\n",
    "plt.legend()\n",
    "plt.show()\n",
    "\n",
    "##############################Cd\n",
    "# Creating figure Cd\n",
    "fig = plt.figure(figsize = (8, 6))\n",
    "visual_split = plt.axes(projection =\"3d\")\n",
    " \n",
    "# Creating plot\n",
    "visual_split.scatter3D(scaler.inverse_transform(X_test)[:,0], scaler.inverse_transform(X_test)[:,1], predictions[:,1], color = \"black\", alpha=1, label='Predictions', marker='x')\n",
    "visual_split.scatter3D(scaler.inverse_transform(X_test)[:,0], scaler.inverse_transform(X_test)[:,1], y_test[:,1], color = \"red\", alpha=0.6, label='Ground Truth')\n",
    "plt.title(\"Cd Prediction vs Ground Truth\")\n",
    "plt.xlabel('Mach Number')\n",
    "plt.ylabel('Angle of Attack')\n",
    "plt.legend()\n",
    "plt.show()\n",
    "\n",
    "plt.scatter(scaler.inverse_transform(X_test)[:,0], predictions[:,1], color = \"black\", alpha=1, label='Predictions', marker='x')\n",
    "plt.scatter(scaler.inverse_transform(X_test)[:,0], y_test[:,1], color = \"red\", alpha=0.6, label='Ground Truth')\n",
    "plt.xlabel('Mach Number')\n",
    "plt.ylabel('Cd')\n",
    "plt.title('Cd vs Mach Number')\n",
    "plt.legend()\n",
    "plt.show()\n",
    "\n",
    "plt.scatter(scaler.inverse_transform(X_test)[:,1], predictions[:,1], color = \"black\", alpha=1, label='Predictions', marker='x')\n",
    "plt.scatter(scaler.inverse_transform(X_test)[:,1], y_test[:,1], color = \"red\", alpha=0.6, label='Ground Truth')\n",
    "plt.xlabel('AoA')\n",
    "plt.ylabel('Cd')\n",
    "plt.title('Cd vs AoA')\n",
    "plt.legend()\n",
    "plt.show()\n",
    "\n",
    "##############################Cp\n",
    "# Creating figure Cp\n",
    "fig = plt.figure(figsize = (8, 6))\n",
    "visual_split = plt.axes(projection =\"3d\")\n",
    " \n",
    "# Creating plot\n",
    "visual_split.scatter3D(scaler.inverse_transform(X_test)[:,0], scaler.inverse_transform(X_test)[:,1], predictions[:,2], color = \"black\", alpha=1, label='Predictions', marker='x')\n",
    "visual_split.scatter3D(scaler.inverse_transform(X_test)[:,0], scaler.inverse_transform(X_test)[:,1], y_test[:,2], color = \"g\", alpha=0.6, label='Ground Truth')\n",
    "plt.title(\"Cp Prediction vs Ground Truth\")\n",
    "plt.xlabel('Mach Number')\n",
    "plt.ylabel('Angle of Attack')\n",
    "plt.legend()\n",
    "plt.show()\n",
    "\n",
    "plt.scatter(scaler.inverse_transform(X_test)[:,0], predictions[:,2], color = \"black\", alpha=1, label='Predictions', marker='x')\n",
    "plt.scatter(scaler.inverse_transform(X_test)[:,0], y_test[:,2], color = \"green\", alpha=0.6, label='Ground Truth')\n",
    "plt.xlabel('Mach Number')\n",
    "plt.ylabel('Cd')\n",
    "plt.title('Cd vs Mach Number')\n",
    "plt.legend()\n",
    "plt.show()\n",
    "\n",
    "plt.scatter(scaler.inverse_transform(X_test)[:,1], predictions[:,2], color = \"black\", alpha=1, label='Predictions', marker='x')\n",
    "plt.scatter(scaler.inverse_transform(X_test)[:,1], y_test[:,2], color = \"green\", alpha=0.6, label='Ground Truth')\n",
    "plt.xlabel('AoA')\n",
    "plt.ylabel('Cd')\n",
    "plt.title('Cd vs AoA')\n",
    "plt.legend()\n",
    "plt.show()"
   ]
  },
  {
   "cell_type": "markdown",
   "metadata": {
    "id": "4GfdEjMWcXg6"
   },
   "source": [
    "### Sampling Predictions"
   ]
  },
  {
   "cell_type": "code",
   "execution_count": null,
   "metadata": {
    "colab": {
     "base_uri": "https://localhost:8080/"
    },
    "executionInfo": {
     "elapsed": 11,
     "status": "ok",
     "timestamp": 1636172607213,
     "user": {
      "displayName": "Rafael Stevenson",
      "photoUrl": "https://lh3.googleusercontent.com/a-/AOh14GjFLyofEkjshRLdSt6m-WESKgWwFx6DJWvLRD1t3A=s64",
      "userId": "15163524260226497427"
     },
     "user_tz": -420
    },
    "id": "ALlos99XcXg6",
    "outputId": "14cf5c1d-3122-4d91-b23b-aae5e73e90c5"
   },
   "outputs": [],
   "source": [
    "sample_number = 6\n",
    "#alldata=len(predictions)\n",
    "print(\"[Cl Cd Cp]\")\n",
    "for i in range (sample_number):\n",
    "    print(f\"Sample Data {i+1}: {y_test[i]}\")\n",
    "    print(f\"Prediction {i+1}: {predictions[i]}\")\n",
    "    error = np.abs(y_test[i]-predictions[i])\n",
    "    print(f\"error: {error}\\n--------------------------------------------------\")\n"
   ]
  }
 ],
 "metadata": {
  "colab": {
   "collapsed_sections": [],
   "name": "Transonic_ANN_Homework.ipynb",
   "provenance": []
  },
  "kernelspec": {
   "display_name": "Python 3",
   "language": "python",
   "name": "python3"
  },
  "language_info": {
   "codemirror_mode": {
    "name": "ipython",
    "version": 3
   },
   "file_extension": ".py",
   "mimetype": "text/x-python",
   "name": "python",
   "nbconvert_exporter": "python",
   "pygments_lexer": "ipython3",
   "version": "3.8.8"
  }
 },
 "nbformat": 4,
 "nbformat_minor": 1
}
