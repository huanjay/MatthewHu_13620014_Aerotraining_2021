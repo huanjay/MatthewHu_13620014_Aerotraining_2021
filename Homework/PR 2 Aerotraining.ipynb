{
 "cells": [
  {
   "cell_type": "code",
   "execution_count": 29,
   "id": "940b0706",
   "metadata": {},
   "outputs": [],
   "source": [
    "class Instrument:\n",
    "    def __init__(self):\n",
    "        self.to=288.15\n",
    "        self.lambdao=-0.0065\n",
    "        self.po=101325\n",
    "       \n",
    "    def calc_pressurealtitute(self,pressure):\n",
    "        pressalt=(self.to/self.lambdao)*(((pressure/self.po)**(-1*self.lambdao*29.27))-1)\n",
    "        return pressalt\n",
    "    \n",
    "    def calc_temp(self,pressure):\n",
    "        tous=15-0.0065*self.calc_pressurealtitute(pressure)\n",
    "        return tous\n",
    "    \n",
    "    def calc_rho(self,pressure):\n",
    "        rhoideal=pressure/(29.27*((15-0.0065*self.calc_pressurealtitute(pressure))+273))\n",
    "        return rhoideal"
   ]
  },
  {
   "cell_type": "code",
   "execution_count": 30,
   "id": "0bc98b3d",
   "metadata": {},
   "outputs": [
    {
     "name": "stdout",
     "output_type": "stream",
     "text": [
      "Pressure reading in Pa 30740\n",
      "Pressure Altitute in meters: 9000.190480970616\n",
      "Toussaint Temperature in Celcius: -91.3590885033146\n",
      "Air Density in kg/m^3:4.5761557134553845\n"
     ]
    }
   ],
   "source": [
    "calc = Instrument()\n",
    "inputpressure=int(input(\"Pressure reading in Pa \"))\n",
    "\n",
    "a=calc.calc_pressurealtitute(inputpressure)\n",
    "b=calc.calc_temp(a)\n",
    "c=calc.calc_rho(inputpressure)\n",
    "print(f\"Pressure Altitute in meters: {a}\")\n",
    "print(f\"Toussaint Temperature in Celcius: {b}\")\n",
    "print(f\"Air Density in kg/m^3:{c}\")"
   ]
  },
  {
   "cell_type": "code",
   "execution_count": 31,
   "id": "bb3057d0",
   "metadata": {},
   "outputs": [
    {
     "name": "stderr",
     "output_type": "stream",
     "text": [
      "UsageError: Line magic function `%calculator` not found.\n"
     ]
    }
   ],
   "source": [
    "%calculator altitute yang data inputnya dari reading\n",
    "%pressure altimeter ato semacamnya. data pressure tersebut\n",
    "%dapat digunakan untuk mengukur ketinggian, temperature\n",
    "%dan air density dan hanya berlaku jika berada di ketinggian\n",
    "%dibawah 11km"
   ]
  }
 ],
 "metadata": {
  "kernelspec": {
   "display_name": "Python 3",
   "language": "python",
   "name": "python3"
  },
  "language_info": {
   "codemirror_mode": {
    "name": "ipython",
    "version": 3
   },
   "file_extension": ".py",
   "mimetype": "text/x-python",
   "name": "python",
   "nbconvert_exporter": "python",
   "pygments_lexer": "ipython3",
   "version": "3.8.8"
  }
 },
 "nbformat": 4,
 "nbformat_minor": 5
}
